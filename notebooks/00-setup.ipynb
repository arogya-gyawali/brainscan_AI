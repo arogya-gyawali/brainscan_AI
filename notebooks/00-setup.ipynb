{
  "nbformat": 4,
  "nbformat_minor": 0,
  "metadata": {
    "colab": {
      "provenance": [],
      "authorship_tag": "ABX9TyMcFB5P006Sde2MvN36NG5s",
      "include_colab_link": true
    },
    "kernelspec": {
      "name": "python3",
      "display_name": "Python 3"
    },
    "language_info": {
      "name": "python"
    }
  },
  "cells": [
    {
      "cell_type": "markdown",
      "metadata": {
        "id": "view-in-github",
        "colab_type": "text"
      },
      "source": [
        "<a href=\"https://colab.research.google.com/github/arogya-gyawali/brainscan_AI/blob/main/notebooks/00-setup.ipynb\" target=\"_parent\"><img src=\"https://colab.research.google.com/assets/colab-badge.svg\" alt=\"Open In Colab\"/></a>"
      ]
    },
    {
      "cell_type": "code",
      "execution_count": 1,
      "metadata": {
        "colab": {
          "base_uri": "https://localhost:8080/"
        },
        "id": "zq4pWnFcluRJ",
        "outputId": "30a86c99-e6ae-493d-b506-072e1c927e7c"
      },
      "outputs": [
        {
          "output_type": "stream",
          "name": "stdout",
          "text": [
            "BrainScan AI Project Setup Complete ✅\n"
          ]
        }
      ],
      "source": [
        "print(\"BrainScan AI Project Setup Complete ✅\")"
      ]
    },
    {
      "cell_type": "code",
      "source": [],
      "metadata": {
        "id": "e_j2he-Pl0Gv"
      },
      "execution_count": null,
      "outputs": []
    }
  ]
}