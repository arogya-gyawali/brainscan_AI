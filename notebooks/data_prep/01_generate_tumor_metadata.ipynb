{
 "cells": [
  {
   "cell_type": "markdown",
   "id": "18c3f91e-1976-4871-bb80-44b9975d1c28",
   "metadata": {},
   "source": [
    "# 🧠 Generate Tumor Metadata from Figshare `.mat` Files\n",
    "\n",
    "This notebook parses raw `.mat` files and constructs a metadata CSV containing:\n",
    "\n",
    "- `file`: image filename (`.png`)\n",
    "- `label`: tumor type (1 = meningioma, 2 = glioma, 3 = pituitary)\n",
    "- `has_mask`: boolean flag indicating if a tumor mask is present\n",
    "- `tumorBorder`: list of [x, y] border coordinates\n",
    "- `label_name`: readable tumor label (e.g. `\"glioma\"`)\n",
    "\n",
    "The metadata file is saved as `tumor_metadata.csv` and will be used for:\n",
    "- Dataset analysis\n",
    "- Model training/testing\n",
    "- Visualization tools"
   ]
  },
  {
   "cell_type": "code",
   "execution_count": 1,
   "id": "d0666781-0edc-4ffe-aeab-53dfb4fb2e55",
   "metadata": {},
   "outputs": [
    {
     "name": "stdout",
     "output_type": "stream",
     "text": [
      "✅ Metadata saved to: /Users/aarogyagyawali/Downloads/BrainScanAI_final_output/tumor_metadata.csv\n"
     ]
    }
   ],
   "source": [
    "import os\n",
    "import h5py\n",
    "import pandas as pd\n",
    "import numpy as np\n",
    "\n",
    "# === Local Paths ===\n",
    "mat_folder = \"/Users/aarogyagyawali/Downloads/Figshare datasets/BrainTumorPositive_DS_Matlab\"\n",
    "output_metadata_path = \"/Users/aarogyagyawali/Downloads/BrainScanAI_final_output/tumor_metadata.csv\"\n",
    "\n",
    "# === Initialize Metadata ===\n",
    "metadata = []\n",
    "\n",
    "mat_files = sorted([f for f in os.listdir(mat_folder) if f.endswith('.mat')])\n",
    "\n",
    "for file_name in mat_files:\n",
    "    file_path = os.path.join(mat_folder, file_name)\n",
    "    base_name = os.path.splitext(file_name)[0]\n",
    "\n",
    "    try:\n",
    "        with h5py.File(file_path, 'r') as f:\n",
    "            cjdata = f['cjdata']\n",
    "            \n",
    "            label = int(np.array(cjdata['label'])[0][0])\n",
    "            tumor_mask = np.array(cjdata['tumorMask'])\n",
    "            has_mask = bool(np.any(tumor_mask))\n",
    "\n",
    "            border_data = np.array(cjdata['tumorBorder'])\n",
    "            flat_border = border_data.flatten()\n",
    "            tumor_border = flat_border.reshape(-1, 2).tolist() if len(flat_border) % 2 == 0 else []\n",
    "\n",
    "            metadata.append({\n",
    "                \"file\": base_name + \".png\",\n",
    "                \"label\": label,\n",
    "                \"has_mask\": has_mask,\n",
    "                \"tumorBorder\": tumor_border\n",
    "            })\n",
    "\n",
    "    except Exception as e:\n",
    "        print(f\"❌ Error in {file_name}: {e}\")\n",
    "\n",
    "# === Save to CSV ===\n",
    "df = pd.DataFrame(metadata)\n",
    "df.to_csv(output_metadata_path, index=False)\n",
    "print(\"✅ Metadata saved to:\", output_metadata_path)\n"
   ]
  },
  {
   "cell_type": "code",
   "execution_count": 7,
   "id": "e04b46f8-4634-4ebc-9101-360cc6053c7f",
   "metadata": {},
   "outputs": [
    {
     "name": "stdout",
     "output_type": "stream",
     "text": [
      "✅ Added 'label_name' column and saved.\n"
     ]
    }
   ],
   "source": [
    "df = pd.read_csv(\"/Users/aarogyagyawali/Downloads/BrainScanAI_final_output/tumor_metadata.csv\")\n",
    "\n",
    "label_map = {1: \"meningioma\", 2: \"glioma\", 3: \"pituitary\"}\n",
    "df[\"label_name\"] = df[\"label\"].map(label_map)\n",
    "\n",
    "df.to_csv(\"/Users/aarogyagyawali/Downloads/BrainScanAI_final_output/tumor_metadata.csv\", index=False)\n",
    "print(\"✅ Added 'label_name' column and saved.\")\n"
   ]
  },
  {
   "cell_type": "code",
   "execution_count": 9,
   "id": "e9b0cc1e-55de-4c54-a5b5-5798e6eacbbe",
   "metadata": {},
   "outputs": [
    {
     "name": "stdout",
     "output_type": "stream",
     "text": [
      "      file  label  has_mask  \\\n",
      "0    1.png      1      True   \n",
      "1   10.png      1      True   \n",
      "2  100.png      1      True   \n",
      "\n",
      "                                         tumorBorder  label_name  \n",
      "0  [[267.6152450090744, 231.37568058076226], [277...  meningioma  \n",
      "1  [[248.86411149825784, 256.89198606271776], [23...  meningioma  \n",
      "2  [[193.26370732550265, 175.8076305348121], [185...  meningioma  \n",
      "glioma        1426\n",
      "pituitary      930\n",
      "meningioma     708\n",
      "Name: label_name, dtype: int64\n"
     ]
    }
   ],
   "source": [
    "print(df.head(3))           # Preview first few rows\n",
    "print(df[\"label_name\"].value_counts())  # Count per tumor type\n"
   ]
  }
 ],
 "metadata": {
  "kernelspec": {
   "display_name": "Python [conda env:anaconda3]",
   "language": "python",
   "name": "conda-env-anaconda3-py"
  },
  "language_info": {
   "codemirror_mode": {
    "name": "ipython",
    "version": 3
   },
   "file_extension": ".py",
   "mimetype": "text/x-python",
   "name": "python",
   "nbconvert_exporter": "python",
   "pygments_lexer": "ipython3",
   "version": "3.10.12"
  }
 },
 "nbformat": 4,
 "nbformat_minor": 5
}
