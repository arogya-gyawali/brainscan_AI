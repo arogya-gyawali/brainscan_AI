{
  "nbformat": 4,
  "nbformat_minor": 0,
  "metadata": {
    "colab": {
      "provenance": [],
      "authorship_tag": "ABX9TyPFvH5f6m4BjsD3uVR9IAkt",
      "include_colab_link": true
    },
    "kernelspec": {
      "name": "python3",
      "display_name": "Python 3"
    },
    "language_info": {
      "name": "python"
    }
  },
  "cells": [
    {
      "cell_type": "markdown",
      "metadata": {
        "id": "view-in-github",
        "colab_type": "text"
      },
      "source": [
        "<a href=\"https://colab.research.google.com/github/arogya-gyawali/brainscan_AI/blob/main/notebooks/data_prep/04_merge_metadata.ipynb\" target=\"_parent\"><img src=\"https://colab.research.google.com/assets/colab-badge.svg\" alt=\"Open In Colab\"/></a>"
      ]
    },
    {
      "cell_type": "code",
      "execution_count": 1,
      "metadata": {
        "colab": {
          "base_uri": "https://localhost:8080/"
        },
        "id": "LVQruf-Nrp56",
        "outputId": "be9e45a7-9a7c-4069-cf69-739cd4316e12"
      },
      "outputs": [
        {
          "output_type": "stream",
          "name": "stdout",
          "text": [
            "Mounted at /content/drive\n",
            "✅ Merged metadata saved to:\n",
            "/content/drive/MyDrive/BrainScanAI/BrainScanAI_final_output/metadatas_tumor_and_no_tumor/final_merged_metadata.csv\n",
            "🔍 Label distribution:\n",
            " label_name\n",
            "no_tumor      1743\n",
            "glioma        1426\n",
            "pituitary      930\n",
            "meningioma     708\n",
            "Name: count, dtype: int64\n"
          ]
        }
      ],
      "source": [
        "from google.colab import drive\n",
        "import pandas as pd\n",
        "import os\n",
        "\n",
        "# Mount Drive\n",
        "drive.mount('/content/drive')\n",
        "\n",
        "# Paths to your metadata CSVs in Google Drive\n",
        "tumor_csv = \"/content/drive/MyDrive/BrainScanAI/BrainScanAI_final_output/metadatas_tumor_and_no_tumor/tumor_metadata.csv\"\n",
        "healthy_csv = \"/content/drive/MyDrive/BrainScanAI/BrainScanAI_final_output/metadatas_tumor_and_no_tumor/no_tumor_metadata.csv\"\n",
        "\n",
        "# Load both metadata files\n",
        "df_tumor = pd.read_csv(tumor_csv)\n",
        "df_healthy = pd.read_csv(healthy_csv)\n",
        "\n",
        "# If 'label_name' is missing in tumor metadata, add it\n",
        "if 'label_name' not in df_tumor.columns:\n",
        "    label_map = {1: \"meningioma\", 2: \"glioma\", 3: \"pituitary\"}\n",
        "    df_tumor[\"label_name\"] = df_tumor[\"label\"].map(label_map)\n",
        "\n",
        "# Add 'label_name' for healthy data\n",
        "df_healthy[\"label_name\"] = \"no_tumor\"\n",
        "\n",
        "# Merge both datasets\n",
        "merged_df = pd.concat([df_tumor, df_healthy], ignore_index=True)\n",
        "\n",
        "# Save merged metadata\n",
        "output_path = \"/content/drive/MyDrive/BrainScanAI/BrainScanAI_final_output/metadatas_tumor_and_no_tumor/final_merged_metadata.csv\"\n",
        "merged_df.to_csv(output_path, index=False)\n",
        "\n",
        "print(f\"✅ Merged metadata saved to:\\n{output_path}\")\n",
        "print(\"🔍 Label distribution:\\n\", merged_df[\"label_name\"].value_counts())\n"
      ]
    }
  ]
}