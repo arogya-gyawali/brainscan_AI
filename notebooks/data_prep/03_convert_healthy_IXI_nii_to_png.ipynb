{
  "nbformat": 4,
  "nbformat_minor": 0,
  "metadata": {
    "colab": {
      "provenance": [],
      "authorship_tag": "ABX9TyPHKLVNcTJIB17Y7SKAULPd",
      "include_colab_link": true
    },
    "kernelspec": {
      "name": "python3",
      "display_name": "Python 3"
    },
    "language_info": {
      "name": "python"
    }
  },
  "cells": [
    {
      "cell_type": "markdown",
      "metadata": {
        "id": "view-in-github",
        "colab_type": "text"
      },
      "source": [
        "<a href=\"https://colab.research.google.com/github/arogya-gyawali/brainscan_AI/blob/main/notebooks/data_prep/03_convert_healthy_IXI_nii_to_png.ipynb\" target=\"_parent\"><img src=\"https://colab.research.google.com/assets/colab-badge.svg\" alt=\"Open In Colab\"/></a>"
      ]
    },
    {
      "cell_type": "markdown",
      "source": [
        "# 🧠 Convert Healthy IXI .nii Files to PNG Slices\n",
        "\n",
        "> ⚠️ This notebook processes MRI scans from the **IXI dataset** (healthy brain samples in `.nii` format).\n",
        "\n",
        "## 📦 Input\n",
        "- Folder: `/content/drive/MyDrive/BrainScanAI/IXI-T1`\n",
        "- Files: T1-weighted MRI `.nii` volumes (3D)\n",
        "\n",
        "## 🎯 Output\n",
        "- Folder: `/content/drive/MyDrive/BrainScanAI/BrainScanAI_final_output/no_tumor_IXI_png`\n",
        "- For each volume: 3 mid-slices (1 before, center, 1 after)\n",
        "- Each slice saved as **grayscale `.png`**\n",
        "- Metadata saved as `no_tumor_metadata.csv`\n",
        "\n",
        "## 🧪 Purpose\n",
        "This data represents **non-tumorous brain scans** and is useful for:\n",
        "- Training/validating classifiers to distinguish healthy vs tumorous MRIs\n",
        "- Augmenting tumor datasets with healthy control samples\n",
        "\n",
        "## 📍Note\n",
        "You may need to mount Google Drive and adjust paths to match your setup.\n"
      ],
      "metadata": {
        "id": "wKdbo9fyqKCh"
      }
    },
    {
      "cell_type": "code",
      "source": [
        "from google.colab import drive\n",
        "drive.mount('/content/drive')\n"
      ],
      "metadata": {
        "colab": {
          "base_uri": "https://localhost:8080/"
        },
        "id": "H0NiN1cJfgSq",
        "outputId": "02dc680c-15ab-466a-c8c7-d24db862c4ec"
      },
      "execution_count": 1,
      "outputs": [
        {
          "output_type": "stream",
          "name": "stdout",
          "text": [
            "Mounted at /content/drive\n"
          ]
        }
      ]
    },
    {
      "cell_type": "code",
      "source": [
        "import os\n",
        "import nibabel as nib\n",
        "import numpy as np\n",
        "from PIL import Image\n",
        "import pandas as pd\n",
        "\n",
        "# === INPUT/OUTPUT PATHS ===\n",
        "nii_input_folder = \"/content/drive/MyDrive/BrainScanAI/IXI-T1\"  # folder with .nii files\n",
        "png_output_folder = \"/content/drive/MyDrive/BrainScanAI/BrainScanAI_final_output/no_tumor_IXI_png\"  # where PNGs will go\n",
        "os.makedirs(png_output_folder, exist_ok=True)\n",
        "\n",
        "# === CONFIGURATION ===\n",
        "num_slices_each_side = 1  # total slices = 5 (center + 2 before + 2 after)\n",
        "\n",
        "# === METADATA STORAGE ===\n",
        "metadata = []\n",
        "\n",
        "# === LIST AND PROCESS .nii FILES ===\n",
        "nii_files = sorted([f for f in os.listdir(nii_input_folder) if f.endswith(\".nii\")])\n",
        "\n",
        "for i, file_name in enumerate(nii_files):\n",
        "    file_path = os.path.join(nii_input_folder, file_name)\n",
        "\n",
        "    try:\n",
        "        # Load the .nii file\n",
        "        nii_image = nib.load(file_path)\n",
        "        image_data = nii_image.get_fdata()\n",
        "\n",
        "        z_dim = image_data.shape[2]\n",
        "        mid_slice = z_dim // 2\n",
        "\n",
        "        for offset in range(-num_slices_each_side, num_slices_each_side + 1):\n",
        "            slice_index = mid_slice + offset\n",
        "            if slice_index < 0 or slice_index >= z_dim:\n",
        "                continue\n",
        "\n",
        "            slice_img = image_data[:, :, slice_index]\n",
        "\n",
        "            # Normalize to 0–255\n",
        "            norm_img = 255 * (slice_img - np.min(slice_img)) / np.ptp(slice_img)\n",
        "            norm_img = norm_img.astype(np.uint8)\n",
        "\n",
        "            base_name = os.path.splitext(file_name)[0]\n",
        "            output_filename = f\"{base_name}_slice{slice_index}.png\"\n",
        "            output_path = os.path.join(png_output_folder, output_filename)\n",
        "\n",
        "            # Save as PNG\n",
        "            Image.fromarray(norm_img).save(output_path)\n",
        "\n",
        "            # Add to metadata\n",
        "            metadata.append({\n",
        "                \"file\": output_filename,\n",
        "                \"label\": 0,  # Healthy brain\n",
        "                \"source\": \"IXI\",\n",
        "                \"slice_index\": slice_index\n",
        "            })\n",
        "\n",
        "        if i % 25 == 0:\n",
        "            print(f\"✅ Processed {i}/{len(nii_files)}: {file_name}\")\n",
        "\n",
        "    except Exception as e:\n",
        "        print(f\"❌ Error processing {file_name}: {e}\")\n",
        "\n",
        "# === SAVE METADATA ===\n",
        "df = pd.DataFrame(metadata)\n",
        "csv_path = os.path.join(png_output_folder, \"no_tumor_metadata.csv\")\n",
        "df.to_csv(csv_path, index=False)\n",
        "\n",
        "print(f\"🏁 Finished. Saved {len(metadata)} slices and metadata to:\\n→ {csv_path}\")\n"
      ],
      "metadata": {
        "colab": {
          "base_uri": "https://localhost:8080/"
        },
        "id": "ol8sZOgpfTwA",
        "outputId": "2bce804c-02ae-44ac-fe0e-899f680fe4de"
      },
      "execution_count": 1,
      "outputs": [
        {
          "output_type": "stream",
          "name": "stdout",
          "text": [
            "✅ Processed 0/581: IXI002-Guys-0828-T1.nii\n",
            "✅ Processed 25/581: IXI038-Guys-0729-T1.nii\n",
            "✅ Processed 50/581: IXI064-Guys-0743-T1.nii\n",
            "✅ Processed 75/581: IXI090-Guys-0800-T1.nii\n",
            "✅ Processed 100/581: IXI115-Guys-0738-T1.nii\n",
            "✅ Processed 125/581: IXI143-Guys-0785-T1.nii\n",
            "✅ Processed 150/581: IXI173-HH-1590-T1.nii\n",
            "✅ Processed 175/581: IXI200-Guys-0812-T1.nii\n",
            "✅ Processed 200/581: IXI228-Guys-0822-T1.nii\n",
            "✅ Processed 225/581: IXI256-HH-1723-T1.nii\n",
            "✅ Processed 250/581: IXI286-Guys-0859-T1.nii\n",
            "✅ Processed 275/581: IXI312-Guys-0887-T1.nii\n",
            "✅ Processed 300/581: IXI338-HH-1971-T1.nii\n",
            "✅ Processed 325/581: IXI370-Guys-0921-T1.nii\n",
            "✅ Processed 350/581: IXI396-HH-2115-T1.nii\n",
            "✅ Processed 375/581: IXI422-Guys-1071-T1.nii\n",
            "✅ Processed 400/581: IXI447-Guys-0979-T1.nii\n",
            "✅ Processed 425/581: IXI475-IOP-1139-T1.nii\n",
            "✅ Processed 450/581: IXI500-Guys-1017-T1.nii\n",
            "✅ Processed 475/581: IXI531-Guys-1057-T1.nii\n",
            "✅ Processed 500/581: IXI559-HH-2394-T1.nii\n",
            "✅ Processed 525/581: IXI589-Guys-1080-T1.nii\n",
            "✅ Processed 550/581: IXI618-Guys-1091-T1.nii\n",
            "✅ Processed 575/581: IXI648-Guys-1107-T1.nii\n",
            "🏁 Finished. Saved 1743 slices and metadata to:\n",
            "→ /content/drive/MyDrive/BrainScanAI/BrainScanAI_final_output/no_tumor_IXI_png/no_tumor_metadata.csv\n"
          ]
        }
      ]
    }
  ]
}