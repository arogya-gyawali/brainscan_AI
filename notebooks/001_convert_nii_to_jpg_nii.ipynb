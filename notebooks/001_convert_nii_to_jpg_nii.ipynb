{
  "nbformat": 4,
  "nbformat_minor": 0,
  "metadata": {
    "colab": {
      "provenance": [],
      "authorship_tag": "ABX9TyOnpcxP9qBWHmzLIHfMOLgf",
      "include_colab_link": true
    },
    "kernelspec": {
      "name": "python3",
      "display_name": "Python 3"
    },
    "language_info": {
      "name": "python"
    }
  },
  "cells": [
    {
      "cell_type": "markdown",
      "metadata": {
        "id": "view-in-github",
        "colab_type": "text"
      },
      "source": [
        "<a href=\"https://colab.research.google.com/github/arogya-gyawali/brainscan_AI/blob/main/notebooks/001_convert_nii_to_jpg_nii.ipynb\" target=\"_parent\"><img src=\"https://colab.research.google.com/assets/colab-badge.svg\" alt=\"Open In Colab\"/></a>"
      ]
    },
    {
      "cell_type": "code",
      "source": [
        "from google.colab import drive\n",
        "drive.mount('/content/drive')"
      ],
      "metadata": {
        "colab": {
          "base_uri": "https://localhost:8080/"
        },
        "id": "ktLMHlCOv374",
        "outputId": "9ba8df8d-c103-4e3d-8adc-9688f5b69b83"
      },
      "execution_count": 20,
      "outputs": [
        {
          "output_type": "stream",
          "name": "stdout",
          "text": [
            "Drive already mounted at /content/drive; to attempt to forcibly remount, call drive.mount(\"/content/drive\", force_remount=True).\n"
          ]
        }
      ]
    },
    {
      "cell_type": "code",
      "execution_count": 21,
      "metadata": {
        "id": "Ycb-vRovtIG8",
        "colab": {
          "base_uri": "https://localhost:8080/"
        },
        "outputId": "5d486de1-50ae-4e59-8b8d-078a3d37b130"
      },
      "outputs": [
        {
          "output_type": "stream",
          "name": "stdout",
          "text": [
            "Requirement already satisfied: nibabel in /usr/local/lib/python3.11/dist-packages (5.3.2)\n",
            "Requirement already satisfied: importlib-resources>=5.12 in /usr/local/lib/python3.11/dist-packages (from nibabel) (6.5.2)\n",
            "Requirement already satisfied: numpy>=1.22 in /usr/local/lib/python3.11/dist-packages (from nibabel) (2.0.2)\n",
            "Requirement already satisfied: packaging>=20 in /usr/local/lib/python3.11/dist-packages (from nibabel) (24.2)\n",
            "Requirement already satisfied: typing-extensions>=4.6 in /usr/local/lib/python3.11/dist-packages (from nibabel) (4.13.1)\n"
          ]
        }
      ],
      "source": [
        "# Load libraries for reading .nii files, working with arrays, and saving images\n",
        "!pip install nibabel\n",
        "import nibabel as nib     # For loading .nii MRI files\n",
        "import numpy as np        # For working with numerical arrays\n",
        "import os                 # For file path handling\n",
        "from PIL import Image     # For saving images\n",
        "import matplotlib.pyplot as plt  # Optional: to view slices inline\n",
        "import pandas as pd       # For handling metadata\n"
      ]
    },
    {
      "cell_type": "code",
      "source": [
        "# Input folder where the .nii files are stored\n",
        "input_folder = \"/content/drive/MyDrive/BrainScanAI/IXI-T1\"\n",
        "\n",
        "# Output folder where the .jpg will be stored\n",
        "output_folder = \"/content/drive/MyDrive/BrainScanAI/healthy_converted\"\n",
        "os.makedirs(output_folder, exist_ok=True)\n",
        "\n",
        "\n",
        "print(f\"✅ Output folder is ready: {output_folder}\")\n"
      ],
      "metadata": {
        "colab": {
          "base_uri": "https://localhost:8080/"
        },
        "id": "9rg__OgHu4t1",
        "outputId": "9d0877a2-5115-4497-af84-c545c151ced3"
      },
      "execution_count": 22,
      "outputs": [
        {
          "output_type": "stream",
          "name": "stdout",
          "text": [
            "✅ Output folder is ready: /content/drive/MyDrive/BrainScanAI/healthy_converted\n"
          ]
        }
      ]
    },
    {
      "cell_type": "code",
      "source": [
        "# List only .nii files, skip hidden files like .DS_Store\n",
        "file_list = sorted([f for f in os.listdir(input_folder) if f.endswith(\".nii\") and not f.startswith('.')])\n",
        "print(f\"✅ Found {len(file_list)} .nii files\")\n"
      ],
      "metadata": {
        "colab": {
          "base_uri": "https://localhost:8080/"
        },
        "id": "kmuc_lzRwyYf",
        "outputId": "91988856-1d78-43cc-b141-a6cb6cf77391"
      },
      "execution_count": 23,
      "outputs": [
        {
          "output_type": "stream",
          "name": "stdout",
          "text": [
            "✅ Found 581 .nii files\n"
          ]
        }
      ]
    },
    {
      "cell_type": "code",
      "source": [
        "# Define how many slices to take before and after the center slice\n",
        "# So total = 2 before + 1 center + 2 after = 5 slices per file\n",
        "num_slices_each_side = 2\n",
        "\n",
        "# Initialize a list to collect metadata for each saved image\n",
        "metadata = []\n",
        "\n",
        "# Loop through each .nii file in the folder\n",
        "for i, file_name in enumerate(file_list):\n",
        "    file_path = os.path.join(input_folder, file_name)\n",
        "\n",
        "    try:\n",
        "        # Load the .nii MRI volume using nibabel\n",
        "        nii_image = nib.load(file_path)\n",
        "\n",
        "        # Convert 3D volume data into a NumPy array\n",
        "        image_data = nii_image.get_fdata()\n",
        "\n",
        "        # Get the number of slices (along the z-axis / depth of the brain)\n",
        "        z_dim = image_data.shape[2]\n",
        "\n",
        "        # Find the center slice index\n",
        "        mid_slice = z_dim // 2\n",
        "\n",
        "        # Extract 5 slices: 2 before, the center, and 2 after\n",
        "        for offset in range(-num_slices_each_side, num_slices_each_side + 1):\n",
        "            slice_index = mid_slice + offset\n",
        "\n",
        "            # Skip if the slice index is outside bounds\n",
        "            if slice_index < 0 or slice_index >= z_dim:\n",
        "                continue\n",
        "\n",
        "            # Extract the 2D slice from the 3D volume\n",
        "            slice_img = image_data[:, :, slice_index]\n",
        "\n",
        "            # Normalize pixel values to range 0–255 for saving as image\n",
        "            norm_img = 255 * (slice_img - np.min(slice_img)) / np.ptp(slice_img)\n",
        "            norm_img = norm_img.astype(np.uint8)\n",
        "\n",
        "            # Generate output file name with slice number\n",
        "            base_name = os.path.splitext(file_name)[0]\n",
        "            output_filename = f\"{base_name}_slice{slice_index}.jpg\"\n",
        "            output_path = os.path.join(output_folder, output_filename)\n",
        "\n",
        "            # Save the normalized slice as a grayscale .jpg image\n",
        "            Image.fromarray(norm_img).save(output_path)\n",
        "\n",
        "            # Record metadata for this image\n",
        "            metadata.append({\n",
        "                \"file\": output_filename,\n",
        "                \"label\": 0,  # 0 = no tumor (healthy brain)\n",
        "                \"source\": \"IXI\",  # Origin of this MRI\n",
        "                \"slice_index\": slice_index  # For reference/debugging\n",
        "            })\n",
        "\n",
        "        # Print progress every 25 files\n",
        "        if i % 25 == 0:\n",
        "            print(f\"✅ Processed {i}/{len(file_list)}: {file_name}\")\n",
        "\n",
        "    except Exception as e:\n",
        "        # Catch and report any errors during processing\n",
        "        print(f\"❌ Error processing {file_name}: {e}\")\n",
        "\n",
        "# Save the metadata as a CSV file in the output folder\n",
        "metadata_df = pd.DataFrame(metadata)\n",
        "csv_path = os.path.join(output_folder, \"no_tumor_metadata.csv\")\n",
        "metadata_df.to_csv(csv_path, index=False)\n",
        "\n",
        "print(\"🏁 All .nii files processed and metadata saved.\")\n"
      ],
      "metadata": {
        "colab": {
          "base_uri": "https://localhost:8080/"
        },
        "id": "7PTlGyZ1w0FF",
        "outputId": "c6c6ffb4-9631-4b76-9805-bdc90cd2eddf"
      },
      "execution_count": 24,
      "outputs": [
        {
          "output_type": "stream",
          "name": "stdout",
          "text": [
            "✅ Processed 0/581: IXI002-Guys-0828-T1.nii\n",
            "✅ Processed 25/581: IXI038-Guys-0729-T1.nii\n",
            "✅ Processed 50/581: IXI064-Guys-0743-T1.nii\n",
            "✅ Processed 75/581: IXI090-Guys-0800-T1.nii\n",
            "✅ Processed 100/581: IXI115-Guys-0738-T1.nii\n",
            "✅ Processed 125/581: IXI143-Guys-0785-T1.nii\n",
            "✅ Processed 150/581: IXI173-HH-1590-T1.nii\n",
            "✅ Processed 175/581: IXI200-Guys-0812-T1.nii\n",
            "✅ Processed 200/581: IXI228-Guys-0822-T1.nii\n",
            "✅ Processed 225/581: IXI256-HH-1723-T1.nii\n",
            "✅ Processed 250/581: IXI286-Guys-0859-T1.nii\n",
            "✅ Processed 275/581: IXI312-Guys-0887-T1.nii\n",
            "✅ Processed 300/581: IXI338-HH-1971-T1.nii\n",
            "✅ Processed 325/581: IXI370-Guys-0921-T1.nii\n",
            "✅ Processed 350/581: IXI396-HH-2115-T1.nii\n",
            "✅ Processed 375/581: IXI422-Guys-1071-T1.nii\n",
            "✅ Processed 400/581: IXI447-Guys-0979-T1.nii\n",
            "✅ Processed 425/581: IXI475-IOP-1139-T1.nii\n",
            "✅ Processed 450/581: IXI500-Guys-1017-T1.nii\n",
            "✅ Processed 475/581: IXI531-Guys-1057-T1.nii\n",
            "✅ Processed 500/581: IXI559-HH-2394-T1.nii\n",
            "✅ Processed 525/581: IXI589-Guys-1080-T1.nii\n",
            "✅ Processed 550/581: IXI618-Guys-1091-T1.nii\n",
            "✅ Processed 575/581: IXI648-Guys-1107-T1.nii\n",
            "🏁 All .nii files processed and metadata saved.\n"
          ]
        }
      ]
    }
  ]
}