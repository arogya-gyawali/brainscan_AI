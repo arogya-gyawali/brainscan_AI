{
  "nbformat": 4,
  "nbformat_minor": 0,
  "metadata": {
    "colab": {
      "provenance": [],
      "authorship_tag": "ABX9TyN47VRP5ksHgy0ouCL6ygRp",
      "include_colab_link": true
    },
    "kernelspec": {
      "name": "python3",
      "display_name": "Python 3"
    },
    "language_info": {
      "name": "python"
    }
  },
  "cells": [
    {
      "cell_type": "markdown",
      "metadata": {
        "id": "view-in-github",
        "colab_type": "text"
      },
      "source": [
        "<a href=\"https://colab.research.google.com/github/arogya-gyawali/brainscan_AI/blob/main/notebooks/00_convert_mat_to_jpg.ipynb\" target=\"_parent\"><img src=\"https://colab.research.google.com/assets/colab-badge.svg\" alt=\"Open In Colab\"/></a>"
      ]
    },
    {
      "cell_type": "markdown",
      "source": [
        "# 🧠 Convert MATLAB .mat Tumor MRI Files to .JPG"
      ],
      "metadata": {
        "id": "6Ps3IRHMH6A4"
      }
    },
    {
      "cell_type": "markdown",
      "source": [
        "This notebook:\n",
        "\n",
        "    Loads .mat brain MRI files from the Figshare tumor dataset\n",
        "\n",
        "    Converts each MRI to a normalized .jpg file\n",
        "\n",
        "    Extracts tumor label and bounding box\n",
        "\n",
        "    Saves the info into a metadata.csv\n",
        "\n",
        "    Output goes to :\n",
        "    /content/drive/MyDrive/BrainScanAI/tumor_converted/\n"
      ],
      "metadata": {
        "id": "ZwdtByQzIFHi"
      }
    },
    {
      "cell_type": "code",
      "execution_count": 34,
      "metadata": {
        "colab": {
          "base_uri": "https://localhost:8080/"
        },
        "id": "8gJriDPfBapM",
        "outputId": "595b26b3-a177-4cc2-9b66-7415afbe78e6"
      },
      "outputs": [
        {
          "output_type": "stream",
          "name": "stdout",
          "text": [
            "Drive already mounted at /content/drive; to attempt to forcibly remount, call drive.mount(\"/content/drive\", force_remount=True).\n"
          ]
        }
      ],
      "source": [
        "#mounting google drive\n",
        "from google.colab import drive\n",
        "drive.mount('/content/drive')"
      ]
    },
    {
      "cell_type": "code",
      "source": [
        "#Importing necessary libraries\n",
        "import h5py\n",
        "import os\n",
        "import numpy as np\n",
        "import pandas as pd\n",
        "from PIL import Image"
      ],
      "metadata": {
        "id": "M2EE4YGOJogW"
      },
      "execution_count": 35,
      "outputs": []
    },
    {
      "cell_type": "code",
      "source": [
        "#Defining the Input/Output paths for easier access\n",
        "input_folder = '/content/drive/MyDrive/BrainScanAI/figshare_raw_matlab'\n",
        "output_folder = '/content/drive/MyDrive/BrainScanAI/tumor_converted'\n",
        "\n",
        "#Making sure that the output folder is only created if it doesnt already exists\n",
        "os.makedirs(output_folder, exist_ok=True)\n",
        "print(f\"✅ Output folder created at: {output_folder}\")"
      ],
      "metadata": {
        "id": "bfKPRE1EMV13",
        "colab": {
          "base_uri": "https://localhost:8080/"
        },
        "outputId": "8f0155c3-a542-4be6-b1af-ebec75843311"
      },
      "execution_count": 36,
      "outputs": [
        {
          "output_type": "stream",
          "name": "stdout",
          "text": [
            "✅ Output folder created at: /content/drive/MyDrive/BrainScanAI/tumor_converted\n"
          ]
        }
      ]
    },
    {
      "cell_type": "code",
      "source": [
        "#This line filters only .mat files and ensure we skip any hidden files etc.\n",
        "file_list = [f for f in os.listdir(input_folder) if f.endswith('.mat')]\n",
        "print(f\"Found {len(file_list)} v7.3 .mat files to convert\")\n"
      ],
      "metadata": {
        "colab": {
          "base_uri": "https://localhost:8080/"
        },
        "id": "XrzSd3bSMpYB",
        "outputId": "3c3b20c6-c4f6-4cf3-9234-7322963ad225"
      },
      "execution_count": 37,
      "outputs": [
        {
          "output_type": "stream",
          "name": "stdout",
          "text": [
            "Found 3064 v7.3 .mat files to convert\n"
          ]
        }
      ]
    },
    {
      "cell_type": "code",
      "source": [
        "#This code block loops through files, convert to JPG. To store metadata for CSV\n",
        "metadata = []\n",
        "\n",
        "file_list = sorted(os.listdir(input_folder))\n",
        "\n",
        "for i, file_name in enumerate(file_list):\n",
        "    file_path = os.path.join(input_folder, file_name)\n",
        "\n",
        "    try:\n",
        "        with h5py.File(file_path, 'r') as f:\n",
        "            cjdata = f['cjdata']\n",
        "\n",
        "            # --- Image Extraction and Normalization ---\n",
        "            image_data = np.array(cjdata['image'])\n",
        "            image_data = image_data.astype(np.float32)\n",
        "            norm_img = 255 * (image_data - image_data.min()) / (image_data.max() - image_data.min())\n",
        "            norm_img = norm_img.astype(np.uint8)\n",
        "\n",
        "            # --- Save Normalized Image ---\n",
        "            base_name = os.path.splitext(file_name)[0]\n",
        "            output_path = os.path.join(output_folder, base_name + \".jpg\")\n",
        "            Image.fromarray(norm_img).save(output_path)\n",
        "\n",
        "            # --- Extract Label and Optional Fields ---\n",
        "            label = int(np.array(cjdata['label'])[0][0])  # 1: meningioma, 2: glioma, 3: pituitary\n",
        "\n",
        "            # Extract bounding box (border)\n",
        "            tumor_border = np.array(cjdata['tumorBorder']).tolist()\n",
        "\n",
        "            # Save metadata\n",
        "            metadata.append({\n",
        "                \"file\": base_name + \".jpg\",\n",
        "                \"label\": label,\n",
        "                \"tumorBorder\": tumor_border\n",
        "            })\n",
        "\n",
        "            if i % 100 == 0:\n",
        "                print(f\"✅ Converted {i}/{len(file_list)}\")\n",
        "\n",
        "    except Exception as e:\n",
        "        print(f\"❌ Error in {file_name}: {e}\")\n",
        "\n",
        "# --- Save Metadata to CSV ---\n",
        "metadata_df = pd.DataFrame(metadata)\n",
        "csv_path = os.path.join(output_folder, \"metadata.csv\")\n",
        "metadata_df.to_csv(csv_path, index=False)\n",
        "\n",
        "print(\"🏁 All conversions complete. Metadata saved.\")\n"
      ],
      "metadata": {
        "colab": {
          "base_uri": "https://localhost:8080/"
        },
        "collapsed": true,
        "id": "mmmD1iQgM7Ol",
        "outputId": "f2a57106-ff25-47d7-8a4d-7b84a0ecc9d8"
      },
      "execution_count": 38,
      "outputs": [
        {
          "output_type": "stream",
          "name": "stdout",
          "text": [
            "✅ Converted 0/3064\n",
            "✅ Converted 100/3064\n",
            "✅ Converted 200/3064\n",
            "✅ Converted 300/3064\n",
            "✅ Converted 400/3064\n",
            "✅ Converted 500/3064\n",
            "✅ Converted 600/3064\n",
            "✅ Converted 700/3064\n",
            "✅ Converted 800/3064\n",
            "✅ Converted 900/3064\n",
            "✅ Converted 1000/3064\n",
            "✅ Converted 1100/3064\n",
            "✅ Converted 1200/3064\n",
            "✅ Converted 1300/3064\n",
            "✅ Converted 1400/3064\n",
            "✅ Converted 1500/3064\n",
            "✅ Converted 1600/3064\n",
            "✅ Converted 1700/3064\n",
            "✅ Converted 1800/3064\n",
            "✅ Converted 1900/3064\n",
            "✅ Converted 2000/3064\n",
            "✅ Converted 2100/3064\n",
            "✅ Converted 2200/3064\n",
            "✅ Converted 2300/3064\n",
            "✅ Converted 2400/3064\n",
            "✅ Converted 2500/3064\n",
            "✅ Converted 2600/3064\n",
            "✅ Converted 2700/3064\n",
            "✅ Converted 2800/3064\n",
            "✅ Converted 2900/3064\n",
            "✅ Converted 3000/3064\n",
            "🏁 All conversions complete. Metadata saved.\n"
          ]
        }
      ]
    }
  ]
}